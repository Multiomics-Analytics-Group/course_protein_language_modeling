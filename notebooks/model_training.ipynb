{
 "cells": [
  {
   "cell_type": "code",
   "execution_count": null,
   "id": "df4a3459-712e-4ab6-bca9-7b7400840811",
   "metadata": {},
   "outputs": [],
   "source": [
    "#!pip install \"transformers[torch]\"\n",
    "#!pip install jupyter ipywidgets --upgrade\n",
    "#!pip install pandas\n",
    "#!pip install scikit-learn\n",
    "#!pip install evaluate\n",
    "#!pip install datasets"
   ]
  },
  {
   "cell_type": "code",
   "execution_count": 20,
   "id": "f4bc0baf-bb9d-4117-a169-871d5ad826ce",
   "metadata": {},
   "outputs": [
    {
     "name": "stderr",
     "output_type": "stream",
     "text": [
      "Some weights of the model checkpoint at Rostlab/prot_bert were not used when initializing BertForMaskedLM: ['cls.seq_relationship.weight', 'bert.pooler.dense.weight', 'bert.pooler.dense.bias', 'cls.seq_relationship.bias']\n",
      "- This IS expected if you are initializing BertForMaskedLM from the checkpoint of a model trained on another task or with another architecture (e.g. initializing a BertForSequenceClassification model from a BertForPreTraining model).\n",
      "- This IS NOT expected if you are initializing BertForMaskedLM from the checkpoint of a model that you expect to be exactly identical (initializing a BertForSequenceClassification model from a BertForSequenceClassification model).\n"
     ]
    },
    {
     "data": {
      "text/plain": [
       "[[{'score': 0.09567423164844513,\n",
       "   'token': 5,\n",
       "   'token_str': 'L',\n",
       "   'sequence': '[CLS] D L I P T S S K L V V L D T S L Q V K K A F F A [MASK] V T [SEP]'},\n",
       "  {'score': 0.08454340696334839,\n",
       "   'token': 10,\n",
       "   'token_str': 'S',\n",
       "   'sequence': '[CLS] D L I P T S S K L V V S D T S L Q V K K A F F A [MASK] V T [SEP]'},\n",
       "  {'score': 0.07277215272188187,\n",
       "   'token': 8,\n",
       "   'token_str': 'V',\n",
       "   'sequence': '[CLS] D L I P T S S K L V V V D T S L Q V K K A F F A [MASK] V T [SEP]'},\n",
       "  {'score': 0.06637787073850632,\n",
       "   'token': 12,\n",
       "   'token_str': 'K',\n",
       "   'sequence': '[CLS] D L I P T S S K L V V K D T S L Q V K K A F F A [MASK] V T [SEP]'},\n",
       "  {'score': 0.06283269822597504,\n",
       "   'token': 14,\n",
       "   'token_str': 'D',\n",
       "   'sequence': '[CLS] D L I P T S S K L V V D D T S L Q V K K A F F A [MASK] V T [SEP]'}],\n",
       " [{'score': 0.10089687258005142,\n",
       "   'token': 5,\n",
       "   'token_str': 'L',\n",
       "   'sequence': '[CLS] D L I P T S S K L V V [MASK] D T S L Q V K K A F F A L V T [SEP]'},\n",
       "  {'score': 0.08844038099050522,\n",
       "   'token': 10,\n",
       "   'token_str': 'S',\n",
       "   'sequence': '[CLS] D L I P T S S K L V V [MASK] D T S L Q V K K A F F A S V T [SEP]'},\n",
       "  {'score': 0.0707244798541069,\n",
       "   'token': 12,\n",
       "   'token_str': 'K',\n",
       "   'sequence': '[CLS] D L I P T S S K L V V [MASK] D T S L Q V K K A F F A K V T [SEP]'},\n",
       "  {'score': 0.06758090108633041,\n",
       "   'token': 8,\n",
       "   'token_str': 'V',\n",
       "   'sequence': '[CLS] D L I P T S S K L V V [MASK] D T S L Q V K K A F F A V V T [SEP]'},\n",
       "  {'score': 0.0670175552368164,\n",
       "   'token': 6,\n",
       "   'token_str': 'A',\n",
       "   'sequence': '[CLS] D L I P T S S K L V V [MASK] D T S L Q V K K A F F A A V T [SEP]'}]]"
      ]
     },
     "execution_count": 20,
     "metadata": {},
     "output_type": "execute_result"
    }
   ],
   "source": [
    "from transformers import BertForMaskedLM, BertTokenizer, pipeline\n",
    "tokenizer = BertTokenizer.from_pretrained(\"Rostlab/prot_bert\", do_lower_case=False )\n",
    "model = BertForMaskedLM.from_pretrained(\"Rostlab/prot_bert\")\n",
    "unmasker = pipeline('fill-mask', model=model, tokenizer=tokenizer)\n",
    "unmasker('D L I P T S S K L V V [MASK] D T S L Q V K K A F F A [MASK] V T')\n"
   ]
  },
  {
   "cell_type": "code",
   "execution_count": null,
   "id": "e8ec051e-0038-4ae7-bc75-15da003c86ac",
   "metadata": {},
   "outputs": [],
   "source": []
  }
 ],
 "metadata": {
  "kernelspec": {
   "display_name": "Python 3 (ipykernel)",
   "language": "python",
   "name": "python3"
  },
  "language_info": {
   "codemirror_mode": {
    "name": "ipython",
    "version": 3
   },
   "file_extension": ".py",
   "mimetype": "text/x-python",
   "name": "python",
   "nbconvert_exporter": "python",
   "pygments_lexer": "ipython3",
   "version": "3.11.4"
  }
 },
 "nbformat": 4,
 "nbformat_minor": 5
}
