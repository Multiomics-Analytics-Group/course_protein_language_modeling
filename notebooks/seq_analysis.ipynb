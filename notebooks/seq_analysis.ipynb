{
 "cells": [
  {
   "cell_type": "markdown",
   "id": "a241a54c-d72b-4f83-87f9-18b28d4008f4",
   "metadata": {},
   "source": [
    "<img src=\"https://github.com/Multiomics-Analytics-Group/course_protein_language_modeling/blob/main/img/nb_logo.png?raw=1\" width=\"600\">"
   ]
  },
  {
   "cell_type": "markdown",
   "id": "7631a9e5-0d60-4890-9219-c13920cdf7dc",
   "metadata": {},
   "source": [
    "[![Open In Colab](https://colab.research.google.com/assets/colab-badge.svg)](https://colab.research.google.com/github/Multiomics-Analytics-Group/course_protein_language_modeling/blob/main/notebooks/seq_analysis.ipynb)"
   ]
  },
  {
   "cell_type": "markdown",
   "id": "b1e1a3d5-6f2f-4a43-af11-9e5f11662bc1",
   "metadata": {},
   "source": [
    "# Introduction to BioPython\n",
    "\n",
    "[BioPython](https://biopython.org/) is a set of freely available tools for biological computation written in Python by an international team of developers. It is a distributed collaborative effort part of the Open Bioinformatics Foundation (OBF).\n",
    "\n",
    "This notebook was inspired by the BioPython notebooks provided [here](https://github.com/tiagoantao/biopython-notebook)."
   ]
  },
  {
   "cell_type": "code",
   "execution_count": null,
   "id": "28cf1821-d660-48d9-ae99-ba7a90609ac6",
   "metadata": {},
   "outputs": [],
   "source": [
    "!pip install biopython"
   ]
  },
  {
   "cell_type": "markdown",
   "id": "d17fc110-7407-4e3d-9edb-03b42a0077a7",
   "metadata": {},
   "source": [
    "## Sequence Objects"
   ]
  },
  {
   "cell_type": "markdown",
   "id": "8564d8f2-9af0-42e3-8b1b-8aa130eef052",
   "metadata": {},
   "source": [
    "Biopython deals with sequences using the Seq object. Sequences are essentially strings of letters like AGTACACTGGT, but the difference between Seq objects and standard Python strings is that they have different methods to perform biologically relevant methods."
   ]
  },
  {
   "cell_type": "code",
   "execution_count": null,
   "id": "1334524b-898b-4276-9c44-9016a10227d4",
   "metadata": {},
   "outputs": [],
   "source": [
    "from Bio.Seq import Seq\n",
    "\n",
    "my_seq = Seq(\"GATCG\")\n",
    "\n",
    "for index, letter in enumerate(my_seq):\n",
    "    print(\"%i %s\" % (index, letter))\n",
    "\n",
    "print(len(my_seq))"
   ]
  },
  {
   "cell_type": "markdown",
   "id": "be88dc7a-8a06-4e0e-a365-c789ff2c70ea",
   "metadata": {},
   "source": [
    "You can access elements of the sequence in the same way as for strings (a list of characters)"
   ]
  },
  {
   "cell_type": "code",
   "execution_count": null,
   "id": "c4e19716-4e0b-4607-90c1-4c1f7deeeab1",
   "metadata": {},
   "outputs": [],
   "source": [
    "print(my_seq[0]) #first nucleotide\n",
    "print(my_seq[2]) #third nucleotide\n",
    "print(my_seq[-1]) #last nucleotide"
   ]
  },
  {
   "cell_type": "markdown",
   "id": "350c05a3-e313-4577-8291-d2da42ece5d2",
   "metadata": {},
   "source": [
    "The Seq object has a .count() method, just like a string.\n",
    "Note that this means that like a Python string, this gives a\n",
    "non-overlapping count:\n"
   ]
  },
  {
   "cell_type": "code",
   "execution_count": null,
   "id": "a7f1c4e4-0f9e-45ac-bbe7-f72bdd116219",
   "metadata": {},
   "outputs": [],
   "source": [
    "print(\"AAAA\".count(\"A\"))\n",
    "print(Seq(\"AAAA\").count(\"AA\"))"
   ]
  },
  {
   "cell_type": "markdown",
   "id": "7506f11e-ac89-41bf-84a7-0df8f9fa4d2a",
   "metadata": {},
   "source": [
    "For some biological uses, you may actually want an overlapping count\n",
    "(i.e. $3$ in this trivial example). When searching for single letters, this\n",
    "makes no difference:"
   ]
  },
  {
   "cell_type": "code",
   "execution_count": null,
   "id": "fc25307c-ea84-4ef3-aa2d-91c7ea5f8515",
   "metadata": {},
   "outputs": [],
   "source": [
    "my_seq = Seq('GATCGATGGGCCTATATAGGATCGAAAATCGC')\n",
    "print(len(my_seq))\n",
    "print(my_seq.count(\"G\"))\n",
    "print(100 * float(my_seq.count(\"G\") + my_seq.count(\"C\")) / len(my_seq))"
   ]
  },
  {
   "cell_type": "markdown",
   "id": "222ce72b-3604-4bf4-947f-18948d3adc2b",
   "metadata": {},
   "source": [
    "While you could use the above snippet of code to calculate a GC\\%, note that  the __Bio.SeqUtils__ module has several GC functions already built.  For example:\n"
   ]
  },
  {
   "cell_type": "code",
   "execution_count": null,
   "id": "6422e42d-4ead-46dc-810c-74ec9931b735",
   "metadata": {},
   "outputs": [],
   "source": [
    " from Bio.SeqUtils import gc_fraction\n",
    "\n",
    "gc_fraction(my_seq)"
   ]
  },
  {
   "cell_type": "markdown",
   "id": "7e50259c-328f-4983-891d-6b32dd7e3e74",
   "metadata": {},
   "source": [
    "## Turning Seq objects into strings"
   ]
  },
  {
   "cell_type": "markdown",
   "id": "9a1f0d8a-187e-44ce-9b25-d8c79f713bdc",
   "metadata": {},
   "source": [
    "If you really do just need a plain string, for example to write to a file, or insert into a database, then this is very easy to get:"
   ]
  },
  {
   "cell_type": "code",
   "execution_count": null,
   "id": "af46ca6e-c4a3-4d21-be12-12e0ec252d62",
   "metadata": {},
   "outputs": [],
   "source": [
    "str(my_seq)"
   ]
  },
  {
   "cell_type": "markdown",
   "id": "d2b7401f-3291-4ed4-ab16-67b2f68713a0",
   "metadata": {},
   "source": [
    "You can also use the Seq object directly with a %s placeholder when using the Python string formatting or interpolation operator (%):"
   ]
  },
  {
   "cell_type": "code",
   "execution_count": null,
   "id": "e6e11edc-cd91-4012-8a37-5fa90959f375",
   "metadata": {},
   "outputs": [],
   "source": [
    "fasta_format_string = \">Name\\n%s\\n\" % my_seq\n",
    "print(fasta_format_string)"
   ]
  },
  {
   "cell_type": "markdown",
   "id": "fa859adc-afa2-4945-a727-94dd472b16da",
   "metadata": {},
   "source": [
    "## Transcription and Translation"
   ]
  },
  {
   "cell_type": "markdown",
   "id": "3631addc-7e68-476a-a7b7-9ac3add43d16",
   "metadata": {},
   "source": [
    "Biological transcription works from the template strand, doing a reverse complement (TACC -> GGTA) to give the mRNA.  However, in Biopython we typically work directly with the coding strand because this means we can get the mRNA sequence just by switching (TACC -> UACC)."
   ]
  },
  {
   "cell_type": "markdown",
   "id": "6b298fa5-d7bc-47d2-9b5c-bde06c2ca3fb",
   "metadata": {},
   "source": [
    "\n",
    "|    | DNA coding strand (Crick strand, strand +1)    |    |\n",
    "| -- | ---------------------------------------------- | -- |\n",
    "| 5' | ATGGCCATTGTAATGGGCCGCTGAAAGGGTGCCCGATAG        | 3' |\n",
    "| 3' | TACCGGTAACATTACCCGGCGACTTTCCCACGGGCTATC        | 5' |\n",
    "|    | DNA template strand (Watson strand, strand -1) |    |\n",
    "|    |           __Transcription__                    |    |\n",
    "| 5' | AUGGCCAUUGUAAUGGGCCGCUGAAAGGGUGCCCGAUAG}       | 3' |\n",
    "|    | Single stranded messenger RNA                  |    |\n"
   ]
  },
  {
   "cell_type": "code",
   "execution_count": null,
   "id": "95e01c9b-cb39-4c58-9f06-c782d890125c",
   "metadata": {},
   "outputs": [],
   "source": [
    "coding_dna = Seq(\"ATGGCCATTGTAATGGGCCGCTGAAAGGGTGCCCGATAG\")\n",
    "print(coding_dna)\n",
    "template_dna = coding_dna.reverse_complement()\n",
    "print(template_dna)"
   ]
  },
  {
   "cell_type": "markdown",
   "id": "189185f4-e349-45f4-b712-4bf52dd5a21e",
   "metadata": {},
   "source": [
    "These should match the figure above - remember by convention nucleotide sequences are normally read from the 5' to 3' direction, while in the figure the template strand is shown reversed.\n",
    "\n",
    "Now let's transcribe the coding strand into the corresponding mRNA, using the Seq object's built in transcribe method:"
   ]
  },
  {
   "cell_type": "code",
   "execution_count": null,
   "id": "ff3913f1-fdde-464b-81b3-bd4a43499ade",
   "metadata": {},
   "outputs": [],
   "source": [
    "messenger_rna = coding_dna.transcribe()\n",
    "messenger_rna"
   ]
  },
  {
   "cell_type": "markdown",
   "id": "43271da1-6bed-4724-8591-9ee8f4bcb209",
   "metadata": {},
   "source": [
    "## Translation"
   ]
  },
  {
   "cell_type": "markdown",
   "id": "eaa33cf8-be4e-47ef-bda5-3877ce719957",
   "metadata": {},
   "source": [
    "Sticking with the same example discussed in the transcription section above,\n",
    "now let's translate this mRNA into the corresponding protein sequence - again taking\n",
    "advantage of one of the Seq object's biological methods:"
   ]
  },
  {
   "cell_type": "code",
   "execution_count": null,
   "id": "a2ffe8bf-0ad8-40d0-a668-9d7a4f7c6108",
   "metadata": {},
   "outputs": [],
   "source": [
    "messenger_rna.translate()"
   ]
  },
  {
   "cell_type": "markdown",
   "id": "5f4cee01-7dbd-4b7a-bb80-2b38876c03b3",
   "metadata": {},
   "source": [
    "You can also translate directly from the coding strand DNA sequence:"
   ]
  },
  {
   "cell_type": "code",
   "execution_count": null,
   "id": "b9255868-0c09-43f2-b72a-f3bf8316265d",
   "metadata": {},
   "outputs": [],
   "source": [
    "coding_dna.translate()"
   ]
  },
  {
   "cell_type": "markdown",
   "id": "611990bd-ee01-4456-8780-e46ead410337",
   "metadata": {},
   "source": [
    "You should notice in the above protein sequences that in addition to the end stop character (__*__), there is an internal stop as well.  This is because we are using the default genetic code (NCBI's standard genetic code - table 1), but there are other translation tables (Genetic Codes) that we can use. Suppose we are instead dealing with a Mitochondrial sequence. We need to tell the translation function to use the relevant genetic code instead:"
   ]
  },
  {
   "cell_type": "code",
   "execution_count": null,
   "id": "078cf36f-1608-4a86-a362-1288d0066ba5",
   "metadata": {},
   "outputs": [],
   "source": [
    "coding_dna.translate(table=\"Vertebrate Mitochondrial\")"
   ]
  },
  {
   "cell_type": "markdown",
   "id": "40557254-8768-4d44-8c84-38c1b4d64f18",
   "metadata": {},
   "source": [
    "You can also specify the table using the NCBI table number which is shorter, and often included in the feature annotation of GenBank files:\n"
   ]
  },
  {
   "cell_type": "code",
   "execution_count": null,
   "id": "d5ebe8ba-917f-4978-b1ef-5de2b6286164",
   "metadata": {},
   "outputs": [],
   "source": [
    "coding_dna.translate(table=2)"
   ]
  },
  {
   "cell_type": "markdown",
   "id": "3ce7a7ea-26c2-4993-8267-6d99aae09467",
   "metadata": {},
   "source": [
    "Now, you may want to translate the nucleotides up to the first in frame stop codon,\n",
    "and then stop (as happens in nature):"
   ]
  },
  {
   "cell_type": "code",
   "execution_count": null,
   "id": "3b0bb6ad-3197-4ec1-a1e2-1d62238815d1",
   "metadata": {},
   "outputs": [],
   "source": [
    "coding_dna.translate(to_stop=True)"
   ]
  },
  {
   "cell_type": "markdown",
   "id": "3a16b9d3-cc28-4eea-9c76-d61bb8fa40a1",
   "metadata": {},
   "source": [
    "Notice that when you use the to_stop argument, the stop codon itself\n",
    "is not translated - and the stop symbol is not included at the end of your protein\n",
    "sequence.\n",
    "\n",
    "You can even specify the stop symbol if you don't like the default asterisk:"
   ]
  },
  {
   "cell_type": "code",
   "execution_count": null,
   "id": "40de8e5b-4cf9-4d12-9ae6-f83a5b3a1710",
   "metadata": {},
   "outputs": [],
   "source": [
    "coding_dna.translate(table=2, stop_symbol=\"@\")"
   ]
  },
  {
   "cell_type": "markdown",
   "id": "f329697e-f376-486e-9628-0e0b8e9a578b",
   "metadata": {},
   "source": [
    "# Sequence annotation objects"
   ]
  },
  {
   "cell_type": "markdown",
   "id": "ed77a54d-adab-42a0-862e-94febe4835a6",
   "metadata": {},
   "source": [
    "The Sequence Record or [SeqRecord class](http://biopython.org/DIST/docs/api/Bio.SeqRecord.SeqRecord-class.html), defined in the [Bio.SeqRecord module](http://biopython.org/DIST/docs/api/Bio.SeqFeature.SeqFeature-class.html) allows higher level features such as identifiers and features (as SeqFeature objects) to be associated with the sequence, and is used throughout the sequence input/output interface [Bio.SeqIO](https://biopython.org/docs/1.75/api/Bio.SeqIO.html?highlight=seqio#module-Bio.SeqIO) to read and write FASTA files."
   ]
  },
  {
   "cell_type": "code",
   "execution_count": null,
   "id": "f356c185-a842-4296-b264-38181906df20",
   "metadata": {
    "scrolled": true
   },
   "outputs": [],
   "source": [
    "from Bio.SeqRecord import SeqRecord"
   ]
  },
  {
   "cell_type": "markdown",
   "id": "62729c6d-200b-4e2a-b639-1b1c6bce3506",
   "metadata": {},
   "source": [
    "## The SeqRecord Object"
   ]
  },
  {
   "cell_type": "markdown",
   "id": "6f1bc1f1-6b3d-4813-9c9e-c9926b7e981f",
   "metadata": {},
   "source": [
    "The SeqRecord (Sequence Record) class is defined in the Bio.SeqRecord module. This class allows higher level features such as identifiers and features to be associated with a sequence, and is the basic data type for the Bio.SeqIO sequence input/output interface.\n",
    "\n",
    "The SeqRecord class itself is quite simple, and offers the following information as attributes:\n",
    "\n",
    "*  **.seq** - The sequence itself, typically a Seq object.\n",
    "\n",
    "* **.id** - The primary ID used to identify the sequence - a string. In most cases this is something like an accession number.\n",
    "\n",
    "* **.name** - A 'common' name/id for the sequence - a string. In some cases this will be the same as the accession number, but it could also be a clone name. I think of this as being analogous to the LOCUS id in a GenBank record.\n",
    "\n",
    "* **.description** - A human readable description or expressive name for the sequence - a string.\n",
    "  \n",
    "* **.letter_annotations** - Holds per-letter-annotations using a (restricted) dictionary of additional information about the letters in the sequence. The keys are the name of the information, and the information is contained in the value as a Python sequence (i.e. a list, tuple or string) with the same length as the sequence itself.  This is often used for quality scores or secondary structure information (e.g. from Stockholm/PFAM alignment files).\n",
    "\n",
    "* **.annotations** - A dictionary of additional information about the sequence. The keys are the name of the information, and the information is contained in the value. This allows the addition of more 'unstructured' information to the sequence.\n",
    "  \n",
    "* **.features** - A list of SeqFeature objects with more structured information about the features on a sequence (e.g. position of genes on a genome, or domains on a protein sequence).\n",
    "  \n",
    "* **.dbxrefs** - A list of database cross-references as strings.\n"
   ]
  },
  {
   "cell_type": "markdown",
   "id": "0c24ba96-0f9f-41b9-ab79-b11bcda0ed11",
   "metadata": {},
   "source": [
    "## Creating a SeqRecord"
   ]
  },
  {
   "cell_type": "markdown",
   "id": "8463f1c0-4479-4133-b9e3-52c85162c0d0",
   "metadata": {},
   "source": [
    "Using a SeqRecord object is not very complicated, since all of the\n",
    "information is presented as attributes of the class. Usually you won't create\n",
    "a SeqRecord 'by hand', but instead use Bio.SeqIO to read in a\n",
    "sequence file for you and the examples\n",
    "below).  However, creating SeqRecord can be quite simple."
   ]
  },
  {
   "cell_type": "markdown",
   "id": "3efa7fb2-2f27-453d-9deb-167a2a08ca89",
   "metadata": {},
   "source": [
    "### SeqRecord objects from scratch"
   ]
  },
  {
   "cell_type": "markdown",
   "id": "ade0257a-528b-4e82-a2fc-8c15534e4b2e",
   "metadata": {},
   "source": [
    "To create a SeqRecord at a minimum you just need a Seq object:"
   ]
  },
  {
   "cell_type": "code",
   "execution_count": null,
   "id": "3a1dee30-df04-4c32-a5b9-5268dae3500e",
   "metadata": {},
   "outputs": [],
   "source": [
    "from Bio.SeqRecord import SeqRecord\n",
    "from Bio.Seq import Seq\n",
    "\n",
    "simple_seq = Seq(\"GATC\")\n",
    "simple_seq_r = SeqRecord(simple_seq)"
   ]
  },
  {
   "cell_type": "markdown",
   "id": "3405e444-37e6-4a6b-a4d1-a8730f0d79f6",
   "metadata": {},
   "source": [
    "Additionally, you can also pass the id, name and description to the initialization function, but if not they will be set as strings indicating they are unknown, and can be modified subsequently:"
   ]
  },
  {
   "cell_type": "code",
   "execution_count": null,
   "id": "531c1a81-c901-4641-b31f-eef4251fe9f4",
   "metadata": {
    "scrolled": true
   },
   "outputs": [],
   "source": [
    "simple_seq_r.id"
   ]
  },
  {
   "cell_type": "code",
   "execution_count": null,
   "id": "675ff92a-e914-450a-9764-b389761b6582",
   "metadata": {},
   "outputs": [],
   "source": [
    "simple_seq_r.id = \"AC12345\"\n",
    "simple_seq_r.description = \"Not a real sequence\"\n",
    "print(simple_seq_r.description)\n",
    "simple_seq_r.seq\n",
    "print(simple_seq_r.seq)"
   ]
  },
  {
   "cell_type": "markdown",
   "id": "647df5b6-91f3-4a20-8a30-cf3662962090",
   "metadata": {},
   "source": [
    "Including an identifier is very important if you want to output your SeqRecord to a file.  You would normally include this when creating the object:\n"
   ]
  },
  {
   "cell_type": "code",
   "execution_count": null,
   "id": "1b90e66a-ffa1-42fd-9529-219e5c8fdadb",
   "metadata": {},
   "outputs": [],
   "source": [
    "simple_seq = Seq(\"GATC\")\n",
    "simple_seq_r = SeqRecord(simple_seq, id=\"AC12345\")"
   ]
  },
  {
   "cell_type": "markdown",
   "id": "27416434-636a-43a2-9e21-de606712c6a0",
   "metadata": {},
   "source": [
    "As mentioned above, the SeqRecord has an dictionary attribute annotations. This is used\n",
    "for any miscellaneous annotations that doesn't fit under one of the other more specific attributes.\n",
    "Adding annotations is easy, and just involves dealing directly with the annotation dictionary:"
   ]
  },
  {
   "cell_type": "code",
   "execution_count": null,
   "id": "2db1c82b-7999-4fa0-8a29-2843ef72a511",
   "metadata": {},
   "outputs": [],
   "source": [
    "simple_seq_r.annotations[\"evidence\"] = \"None\"\n",
    "print(simple_seq_r.annotations)\n",
    "print(simple_seq_r.annotations[\"evidence\"])"
   ]
  },
  {
   "cell_type": "markdown",
   "id": "904f55aa-4a7a-4e77-a413-fd669e178233",
   "metadata": {},
   "source": [
    "Working with per-letter-annotations is similar, letter_annotations is a\n",
    "dictionary like attribute which will let you assign any Python sequence (i.e.\n",
    "a string, list or tuple) which has the same length as the sequence:"
   ]
  },
  {
   "cell_type": "code",
   "execution_count": null,
   "id": "9b122bca-5567-42bc-82ca-830dbe85c018",
   "metadata": {},
   "outputs": [],
   "source": [
    "simple_seq_r.letter_annotations[\"phred_quality\"] = [40, 40, 38, 30]\n",
    "print(simple_seq_r.letter_annotations)\n",
    "print(simple_seq_r.letter_annotations[\"phred_quality\"])"
   ]
  },
  {
   "cell_type": "markdown",
   "id": "8f7f06c3-82d6-4de4-bf3a-b84d23c55a97",
   "metadata": {},
   "source": [
    "The dbxrefs and features attributes are just Python lists, and\n",
    "should be used to store strings and SeqFeature objects (discussed later) respectively."
   ]
  },
  {
   "cell_type": "markdown",
   "id": "89bedd62-29d1-443a-8ce7-9360a9610b93",
   "metadata": {},
   "source": [
    "## Obtain and Parse Sequences"
   ]
  },
  {
   "cell_type": "markdown",
   "id": "f02ba889-a31c-4864-b54d-ef2abd6e5105",
   "metadata": {},
   "source": [
    "Here, we will download and read a FASTA file containing the sequence of a list of genes from \\textit{Escherichia coli}. We will make use of the [Entrez module](https://biopython.org/docs/1.76/api/Bio.Entrez.html). This module provides a number of functions like `efetch` (short for Entrez Fetch) which will return the searched data as a handle object (a file-like object)."
   ]
  },
  {
   "cell_type": "markdown",
   "id": "8eb5d8b9-9763-41d0-875b-af35eaf447d1",
   "metadata": {},
   "source": [
    "### Getting Nucleotide Sequences"
   ]
  },
  {
   "cell_type": "code",
   "execution_count": null,
   "id": "ee5e85a2-1758-40b4-bf57-f48db6506169",
   "metadata": {},
   "outputs": [],
   "source": []
  },
  {
   "cell_type": "code",
   "execution_count": null,
   "id": "aba17f8a-5a40-4596-814f-e3dd73ebd52e",
   "metadata": {},
   "outputs": [],
   "source": [
    "from Bio import SeqIO\n",
    "from Bio import Entrez\n",
    "\n",
    "# The line below carries out a search of the `assembly` database at NCBI,\n",
    "# using the phrase `Ralstonia solanacearum` as the search query,\n",
    "# and asks NCBI to return up to the first 100 results\n",
    "with Entrez.esearch(db=\"assembly\", term=\"Escherichial coli\", retmax=10) as handle:\n",
    "    # This line converts the returned information from NCBI into a form we\n",
    "    # can use, as before.\n",
    "    record = Entrez.read(handle)\n",
    "print(record)"
   ]
  },
  {
   "cell_type": "code",
   "execution_count": null,
   "id": "6c68cc83-11d8-4bc0-8ed0-4b83ccf6e3b2",
   "metadata": {},
   "outputs": [],
   "source": [
    "Entrez.email = 'A.N.Other@example.com'\n",
    "with Entrez.efetch(db=\"nucleotide\", id=record[\"IdList\"], rettype=\"gb\", retmode=\"text\") as handle:\n",
    "    record_iterator = SeqIO.parse(handle, \"gb\")\n",
    "\n",
    "    for record in record_iterator:\n",
    "        print(record.format(\"fasta\"))"
   ]
  },
  {
   "cell_type": "markdown",
   "id": "34f847ea-f77c-4138-83c3-69eeaea4a246",
   "metadata": {},
   "source": [
    "### Getting Protein Sequences"
   ]
  },
  {
   "cell_type": "code",
   "execution_count": null,
   "id": "37341e2e-cc01-4fc3-a212-90f8478598ca",
   "metadata": {},
   "outputs": [],
   "source": [
    "with Entrez.esearch(db=\"protein\", term=\"Escherichial coli\", retmax=10) as handle:\n",
    "    record = Entrez.read(handle)\n",
    "print(record)"
   ]
  },
  {
   "cell_type": "code",
   "execution_count": null,
   "id": "6a979349-64ba-44cb-a661-89c577ddcd9e",
   "metadata": {},
   "outputs": [],
   "source": [
    "with Entrez.efetch(db=\"protein\", id=record[\"IdList\"], rettype=\"gb\", retmode=\"text\") as handle:\n",
    "    record_iterator = SeqIO.parse(handle, \"gb\")\n",
    "    \n",
    "    for record in record_iterator:\n",
    "        print(record.format(\"fasta\"))"
   ]
  },
  {
   "cell_type": "markdown",
   "id": "49111447-1b27-467c-89cc-c93583e024c0",
   "metadata": {},
   "source": [
    "# Protein Parameters\n",
    "\n",
    "When working with sequences, especially in ML models, it is important to extract some parameters that summarize them and that can be used for instance to make sure that your train/test/validation splits are comparable.\n",
    "\n",
    "We can make use of `Bio.SeqUtils.ProtParam` to extract these parameters and visualize them."
   ]
  },
  {
   "cell_type": "code",
   "execution_count": null,
   "id": "6785d85e-a06c-433c-a1c3-f92db6226a27",
   "metadata": {},
   "outputs": [],
   "source": [
    "from Bio.SeqUtils.ProtParam import ProteinAnalysis\n",
    "\n",
    "\n",
    "protein_sequence = ProteinAnalysis(\"MAEGEITTFTALTEKFNLPPGNYKKPKLLYCSNGGHFLRILPDGTVDGT\"\n",
    "                    \"RDRSDQHIQLQLSAESVGEVYIKSTETGQYLAMDTSGLLYGSQTPSEEC\"\n",
    "                    \"LFLERLEENHYNTYTSKKHAEKNWFVGLKKNGSCKRGPRTHYGQKAILF\"\n",
    "                    \"LPLPV\")\n",
    "\n",
    "print(protein_sequence.count_amino_acids())\n",
    "\n",
    "print(\"%0.2f\" % protein_sequence.molecular_weight())\n",
    "\n",
    "print(\"%0.2f\" % protein_sequence.aromaticity())\n",
    "\n",
    "print(\"%0.2f\" % protein_sequence.instability_index())\n",
    "\n",
    "print(\"%0.2f\" % protein_sequence.isoelectric_point())\n",
    "\n",
    "sec_struc = protein_sequence.secondary_structure_fraction()  # [helix, turn, sheet]\n",
    "print(sec_struc)\n",
    "\n",
    "epsilon_prot = protein_sequence.molar_extinction_coefficient()  # [reduced, oxidized]\n",
    "print(epsilon_prot[0])  # with reduced cysteines\n",
    "print(epsilon_prot[1])  # with disulfid bridges"
   ]
  },
  {
   "cell_type": "code",
   "execution_count": null,
   "id": "d2bd5cf6-e1af-4052-986c-8ca6580c3993",
   "metadata": {},
   "outputs": [],
   "source": [
    "train_sequences = ['MIQEKDKYVVASVTILESNQILDKGSIQTSGIELNYYMKYQKY',\n",
    "             'MIQEKDKYVVASVTILESNQLLKEANSSGN',\n",
    "             'MIQEKDKYVVASVTILESNQNSDVFIDLTNLTVEHKKLLN', \n",
    "             'MIQEKDKYVVASVTILESNQVFDAMGFGGFLNINRKKFYNDL',\n",
    "             'MIQEKDKYVVASVTILESNQVFFDSPEIKKLGLVTLKAKYD',\n",
    "             'MIQEKDKYVVASVTILESNQFGMKRNILYKETKALRAK']\n",
    "test_sequences = ['MIQEKDKYVVASVTILESNQILDKGSIQAAAALNYYMKYQKY',\n",
    "             'MIQEKDKAAAAHHHHHHTILESNQLLKEANSSGN',\n",
    "             'MIQEAAAAAASVTILHHHHHHHHESNQNSDVFIDLTNLTVEHKKLLN', \n",
    "             'MIQEKDKYVVLLLLLLLSSSSSAAAAAAGFGGFLNINRKKFYNDL',\n",
    "             'MIQEKDKYVVASVTILESNQVFFDSSSSSAAAAAAAKKLGLVTLKAKYD',\n",
    "             'MIQEKDKYVVASVTILESNQFGMKRNILYKLLLLSSSSSSSSSKKKKKAAAAAAK']"
   ]
  },
  {
   "cell_type": "code",
   "execution_count": null,
   "id": "dcd8773f-15fd-48d9-b3c4-b48f763f8f26",
   "metadata": {},
   "outputs": [],
   "source": [
    "import pandas as pd\n",
    "\n",
    "def calculate_mean_AA_composition(sequences):\n",
    "    stats = []\n",
    "    for sequence in sequences:\n",
    "        protein_sequence = ProteinAnalysis(sequence)\n",
    "        st = {k:v/len(sequence) for k,v in protein_sequence.count_amino_acids().items()}\n",
    "        stats.append(st)\n",
    "    df = pd.DataFrame.from_dict(stats).transpose()\n",
    "    df = df.T.mean().reset_index()\n",
    "    df.columns = ['amino acid', 'mean']\n",
    "\n",
    "    return df"
   ]
  },
  {
   "cell_type": "code",
   "execution_count": null,
   "id": "190c93fe-a926-4d0e-9353-6de72d8bc3c7",
   "metadata": {},
   "outputs": [],
   "source": [
    "train_df = calculate_mean_AA_composition(train_sequences)\n",
    "test_df = calculate_mean_AA_composition(test_sequences)"
   ]
  },
  {
   "cell_type": "code",
   "execution_count": null,
   "id": "6b58938a-bb2f-481c-b8b4-924bd1196b54",
   "metadata": {},
   "outputs": [],
   "source": [
    "import plotly.express as px\n",
    "import plotly.io as pio\n",
    "pio.renderers.default = 'colab'\n",
    "\n",
    "fig = px.bar(train_df.sort_values(by='mean'), x='amino acid', y='mean', color='mean')\n",
    "fig.show()"
   ]
  },
  {
   "cell_type": "code",
   "execution_count": null,
   "id": "09bde85c-a85f-425f-b774-0dbf4da96bb2",
   "metadata": {},
   "outputs": [],
   "source": [
    "fig = px.bar(test_df.sort_values('mean'), x='amino acid', y='mean', color='mean')\n",
    "fig.show()"
   ]
  },
  {
   "cell_type": "markdown",
   "id": "9020bf6d-6a8a-4a55-9c05-a0cb972405e5",
   "metadata": {},
   "source": [
    "## Multiple Sequence Alignment objects\n",
    "\n",
    "We will now look at collections of sequences which have been aligned together –\n",
    "usually with the insertion of gap characters, and addition of leading or\n",
    "trailing gaps – such that all the sequence strings are the same length.\n",
    "Such an alignment can be regarded as a matrix of letters, where each row\n",
    "is held as a `SeqRecord` object internally.\n",
    "\n",
    "We will introduce the `MultipleSeqAlignment` object which holds this\n",
    "kind of data, and the `Bio.AlignIO` module for reading and writing them\n",
    "as various file formats (following the design of the `Bio.SeqIO` module).\n",
    "\n",
    "### Parsing or Reading Sequence Alignments\n",
    "\n",
    "There are two functions for reading in sequence alignments,\n",
    "`Bio.AlignIO.read()` and `Bio.AlignIO.parse()` which following the\n",
    "convention introduced in `Bio.SeqIO` are for files containing one or\n",
    "multiple alignments respectively.\n",
    "\n",
    "Using `Bio.AlignIO.parse()` will return an <span>*iterator*</span> which\n",
    "gives `MultipleSeqAlignment` objects.\n",
    "\n",
    "However, in many situations you will be dealing with files which contain\n",
    "only a single alignment. In this case, you should use the\n",
    "`Bio.AlignIO.read()` function which returns a single\n",
    "`MultipleSeqAlignment` object.\n",
    "\n",
    "Both functions expect two mandatory arguments:\n",
    "\n",
    "1.  The first argument is a <span>*handle*</span> to read the data from,\n",
    "    typically an open file (see Section \\[sec:appendix-handles\\]), or\n",
    "    a filename.\n",
    "\n",
    "2.  The second argument is a lower case string specifying the\n",
    "    alignment format. As in `Bio.SeqIO` we don’t try and guess the file\n",
    "    format for you! See [AlignIO](http://biopython.org/wiki/AlignIO) for a full\n",
    "    listing of supported formats.\n",
    "\n",
    "A further optional `alphabet` argument allowing you to specify the\n",
    "expected alphabet. This can be useful as many alignment file formats do\n",
    "not explicitly label the sequences as RNA, DNA or protein – which means\n",
    "`Bio.AlignIO` will default to using a generic alphabet."
   ]
  },
  {
   "cell_type": "code",
   "execution_count": null,
   "id": "69ff3a76-5495-493a-abe4-8768f4220279",
   "metadata": {},
   "outputs": [],
   "source": [
    "!wget -q https://raw.githubusercontent.com/Multiomics-Analytics-Group/course_protein_language_modeling/main/data/Test_seed1_aligned.aln -O Test_seed1_aligned.aln"
   ]
  },
  {
   "cell_type": "code",
   "execution_count": null,
   "id": "515f363d-2306-4825-b46a-3372a1252e4e",
   "metadata": {},
   "outputs": [],
   "source": [
    "!pip install pymsaviz"
   ]
  },
  {
   "cell_type": "code",
   "execution_count": null,
   "id": "42bd0d38-7140-40b4-bd11-988e04f307ad",
   "metadata": {},
   "outputs": [],
   "source": [
    "from Bio import AlignIO\n",
    "alignment = AlignIO.read(\"Test_seed1_aligned.aln\", format=\"fasta\")"
   ]
  },
  {
   "cell_type": "markdown",
   "id": "628e3e83-eee9-4dda-a3e6-26f710a78ab5",
   "metadata": {},
   "source": [
    "\n",
    "This code will print out a summary of the alignment:\n",
    "\n"
   ]
  },
  {
   "cell_type": "code",
   "execution_count": null,
   "id": "f97ce63a-11db-485a-a5d0-58952902c6ad",
   "metadata": {},
   "outputs": [],
   "source": [
    "print(alignment)"
   ]
  },
  {
   "cell_type": "code",
   "execution_count": null,
   "id": "42c55065-93cb-46ee-b08b-da6121716c0f",
   "metadata": {},
   "outputs": [],
   "source": [
    "from pymsaviz import MsaViz, get_msa_testdata\n",
    "\n",
    "mv = MsaViz(alignment)\n",
    "fig = mv.plotfig()"
   ]
  },
  {
   "cell_type": "markdown",
   "id": "e0c76184-cda2-4f25-a9ba-1090683c85b4",
   "metadata": {},
   "source": [
    "# Protein Structures\n",
    "\n",
    "Bio.PDB is a Biopython module that focuses on working with crystal\n",
    "structures of biological macromolecules. Among other things, Bio.PDB\n",
    "includes a PDBParser class that produces a Structure object, which can\n",
    "be used to access the atomic data in the file in a convenient manner.\n",
    "There is limited support for parsing the information contained in the\n",
    "PDB header.\n",
    "\n",
    "Reading and writing crystal structure files\n",
    "-------------------------------------------\n",
    "\n",
    "### Reading a PDB file\n",
    "\n",
    "First we create a `PDBParser` object:"
   ]
  },
  {
   "cell_type": "code",
   "execution_count": null,
   "id": "6789956e-24bc-40f9-b3c5-d6156a871230",
   "metadata": {},
   "outputs": [],
   "source": [
    "from Bio.PDB.PDBParser import PDBParser\n",
    "p = PDBParser(PERMISSIVE=1)"
   ]
  },
  {
   "cell_type": "markdown",
   "id": "12961764-028d-4558-a925-8b62aedf6302",
   "metadata": {},
   "source": [
    "\n",
    "The <span>PERMISSIVE</span> flag indicates that a number of common\n",
    "problems (see \\[problem structures\\]) associated with PDB files will be\n",
    "ignored (but note that some atoms and/or residues will be missing). If\n",
    "the flag is not present a <span>PDBConstructionException</span> will be\n",
    "generated if any problems are detected during the parse operation.\n",
    "\n",
    "The Structure object is then produced by letting the `PDBParser` object\n",
    "parse a PDB file (the PDB file in this case is called ’pdb1fat.ent’,\n",
    "’1fat’ is a user defined name for the structure):"
   ]
  },
  {
   "cell_type": "code",
   "execution_count": null,
   "id": "13ce4ec3-4d90-4f99-91e2-f34de06f8d0e",
   "metadata": {},
   "outputs": [],
   "source": [
    "from Bio.PDB.PDBList import PDBList\n",
    "\n",
    "structure_id = \"1fat\"\n",
    "pdblist = PDBList()\n",
    "pdb_file = pdblist.retrieve_pdb_file(pdb_code=structure_id, obsolete=False, pdir='.', file_format='pdb', overwrite=False)\n",
    "\n",
    "structure = p.get_structure(structure_id, pdb_file)"
   ]
  },
  {
   "cell_type": "code",
   "execution_count": null,
   "id": "efe430a8-dd5d-4af8-abe7-65aad0c447da",
   "metadata": {},
   "outputs": [],
   "source": [
    "structure.header"
   ]
  },
  {
   "cell_type": "markdown",
   "id": "89adc7b1-11d0-447d-845a-8d5fdf28a8d1",
   "metadata": {},
   "source": [
    "### Visualizing the Structure"
   ]
  },
  {
   "cell_type": "code",
   "execution_count": null,
   "id": "207b0571-8408-40ae-816e-c763deee3aa1",
   "metadata": {},
   "outputs": [],
   "source": [
    "!pip install py3Dmol"
   ]
  },
  {
   "cell_type": "code",
   "execution_count": null,
   "id": "23e40c3c-35b5-414d-a848-50e2ba76faff",
   "metadata": {},
   "outputs": [],
   "source": [
    "import py3Dmol\n",
    "\n",
    "#First we assign the py3Dmol.view as view\n",
    "view=py3Dmol.view()\n",
    "#The following lines are used to add the addModel class\n",
    "#to read the PDB files of chain B and C\n",
    "view.addModel(open(pdb_file, 'r').read(),'pdb')\n",
    "#Zooming into all visualized structures \n",
    "view.zoomTo()\n",
    "#Here we set the background color as white\n",
    "view.setBackgroundColor('white')\n",
    "#Here we set the visualization style for chain B and C\n",
    "view.setStyle({'chain':'A'}, {'cartoon': {'color':'yellow'}})\n",
    "view.setStyle({'chain':'B'}, {'cartoon': {'color':'purple'}})\n",
    "view.setStyle({'chain':'C'}, {'cartoon': {'color':'blue'}})\n",
    "view.setStyle({'chain':'D'}, {'cartoon': {'color':'grey'}})\n",
    "#And we finally visualize the structures using the command below\n",
    "view.show()"
   ]
  }
 ],
 "metadata": {
  "kernelspec": {
   "display_name": "Python 3 (ipykernel)",
   "language": "python",
   "name": "python3"
  },
  "language_info": {
   "codemirror_mode": {
    "name": "ipython",
    "version": 3
   },
   "file_extension": ".py",
   "mimetype": "text/x-python",
   "name": "python",
   "nbconvert_exporter": "python",
   "pygments_lexer": "ipython3",
   "version": "3.11.4"
  }
 },
 "nbformat": 4,
 "nbformat_minor": 5
}
