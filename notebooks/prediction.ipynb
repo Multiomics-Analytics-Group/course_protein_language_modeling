{
 "cells": [
  {
   "cell_type": "markdown",
   "id": "611a67cb-71c1-4a16-bfef-757ce22f5bd9",
   "metadata": {},
   "source": [
    "<img src=\"https://github.com/Multiomics-Analytics-Group/course_protein_language_modeling/blob/main/img/nb_logo.png?raw=1\" width=\"600\">"
   ]
  },
  {
   "cell_type": "markdown",
   "id": "5ee7457c-15d3-4c69-812a-2bdaa68392c4",
   "metadata": {},
   "source": [
    "[![Open In Colab](https://colab.research.google.com/assets/colab-badge.svg)](https://colab.research.google.com/github/Multiomics-Analytics-Group/course_protein_language_modeling/blob/main/notebooks/prediction.ipynb)\n",
    "\n",
    "\n",
    "This is a version of the notebook from [Meta Research](https://research.facebook.com/) --- [here](https://github.com/facebookresearch/esm/blob/main/examples/sup_variant_prediction.ipynb) using the output from the [Embeddings notebook](https://colab.research.google.com/github/Multiomics-Analytics-Group/course_protein_language_modeling/blob/main/notebooks/embeddings.ipynb)"
   ]
  },
  {
   "cell_type": "code",
   "execution_count": null,
   "id": "a3a0883e-7dc9-498b-8e3d-74a7252eb0f9",
   "metadata": {
    "id": "QMoeBQnUCK_E"
   },
   "outputs": [],
   "source": [
    "# Install requirements\n",
    "!pip install h5py > /dev/null"
   ]
  },
  {
   "cell_type": "markdown",
   "id": "57f2e944-def3-40e1-93e2-03cd105d3239",
   "metadata": {},
   "source": [
    "# Predicting Varient Effect from Sequence Embeddings\n",
    "\n",
    "In this notebook we will use the embeddings we generated in embeddings.ipynb to train and optimize various machine learning models in sklearn.\n",
    "\n",
    "Each observation in our dataset $--$ which we created in embeddings.ipynb (or can be found in the git repo at _data/per_protein_embeddings.h5.zip_)$--$contains: \n",
    "- value: an embedded representation of the mutated ß-lactamase sequence\n",
    "- key: `{index}|beta-lactamase_{mutation}|{scaled_varient_effect}` where the target value is the scaled_varient_effect, which describes the scaled effect of the mutation\n",
    "\n",
    "**Goal:**\n",
    "Train a regression model in to predict the \"effect\" score of a $\\beta$-$lactamase$ variant given the embedding."
   ]
  },
  {
   "cell_type": "code",
   "execution_count": 49,
   "id": "8771ca2f-4791-4c52-8c26-79455a1eaf7a",
   "metadata": {},
   "outputs": [],
   "source": [
    "# imports\n",
    "import h5py\n",
    "import gzip\n",
    "import os\n",
    "import numpy as np\n",
    "import pandas as pd\n",
    "import matplotlib.pyplot as plt\n",
    "import scipy\n",
    "\n",
    "# path to files\n",
    "zip_path = '../data/per_protein_embeddings.h5.zip'\n",
    "filename = 'per_protein_embeddings.h5'"
   ]
  },
  {
   "cell_type": "code",
   "execution_count": 50,
   "id": "3cb13342-7467-4dae-a3b2-adce66844685",
   "metadata": {},
   "outputs": [],
   "source": [
    "# uncomment if you wish to unzip the file here\n",
    "import zipfile\n",
    "\n",
    "with zipfile.ZipFile(zip_path, 'r') as zip_ref:\n",
    "    # extract the filename of interest\n",
    "    zip_ref.extract(filename)"
   ]
  },
  {
   "cell_type": "code",
   "execution_count": 18,
   "id": "fda0ea3f-0343-434f-a62a-b80d9ef2e1fc",
   "metadata": {
    "id": "vuqI2vnujG88"
   },
   "outputs": [],
   "source": [
    "def read_hdf5(path):\n",
    "    '''\n",
    "    read in the h5 file to a dictionary\n",
    "    '''\n",
    "    # empty dict and list\n",
    "    weights = {}\n",
    "    keys = []\n",
    "    \n",
    "    # open file\n",
    "    with h5py.File(path, 'r') as f:\n",
    "        # append to dict\n",
    "        for key in f.keys():\n",
    "            weights[key] = list(f[key])\n",
    "            \n",
    "    return weights"
   ]
  },
  {
   "cell_type": "code",
   "execution_count": 15,
   "id": "e9f5b506-8c45-4d35-9573-68e583c4b737",
   "metadata": {
    "id": "NUkgnuY0qdz0"
   },
   "outputs": [],
   "source": [
    "# load in embeddings\n",
    "embeddings = read_hdf5(filename)"
   ]
  },
  {
   "cell_type": "code",
   "execution_count": null,
   "id": "06df3f26-5f81-4c2e-972d-707b12d9e9fb",
   "metadata": {
    "id": "_v6l02vzq11W"
   },
   "outputs": [],
   "source": [
    "# take a look at the keys\n",
    "embeddings.keys()"
   ]
  },
  {
   "cell_type": "markdown",
   "id": "e75eca58-8de7-4f79-b711-6b219f80ee6a",
   "metadata": {},
   "source": [
    "Further getting the dataset ready by getting the target and features (embedding)"
   ]
  },
  {
   "cell_type": "code",
   "execution_count": 43,
   "id": "97e8aa0b-81cb-4996-ab75-55bae8b91e9e",
   "metadata": {},
   "outputs": [
    {
     "data": {
      "text/html": [
       "<div>\n",
       "<style scoped>\n",
       "    .dataframe tbody tr th:only-of-type {\n",
       "        vertical-align: middle;\n",
       "    }\n",
       "\n",
       "    .dataframe tbody tr th {\n",
       "        vertical-align: top;\n",
       "    }\n",
       "\n",
       "    .dataframe thead th {\n",
       "        text-align: right;\n",
       "    }\n",
       "</style>\n",
       "<table border=\"1\" class=\"dataframe\">\n",
       "  <thead>\n",
       "    <tr style=\"text-align: right;\">\n",
       "      <th></th>\n",
       "      <th>index_value</th>\n",
       "      <th>mutation</th>\n",
       "      <th>scaled_varient_effect</th>\n",
       "      <th>0</th>\n",
       "      <th>1</th>\n",
       "      <th>2</th>\n",
       "      <th>3</th>\n",
       "      <th>4</th>\n",
       "      <th>5</th>\n",
       "      <th>6</th>\n",
       "      <th>...</th>\n",
       "      <th>1014</th>\n",
       "      <th>1015</th>\n",
       "      <th>1016</th>\n",
       "      <th>1017</th>\n",
       "      <th>1018</th>\n",
       "      <th>1019</th>\n",
       "      <th>1020</th>\n",
       "      <th>1021</th>\n",
       "      <th>1022</th>\n",
       "      <th>1023</th>\n",
       "    </tr>\n",
       "  </thead>\n",
       "  <tbody>\n",
       "    <tr>\n",
       "      <th>0</th>\n",
       "      <td>0</td>\n",
       "      <td>beta-lactamase_P20P</td>\n",
       "      <td>1.581033</td>\n",
       "      <td>0.052989</td>\n",
       "      <td>0.103709</td>\n",
       "      <td>0.027287</td>\n",
       "      <td>0.048142</td>\n",
       "      <td>-0.041467</td>\n",
       "      <td>0.052440</td>\n",
       "      <td>-0.070206</td>\n",
       "      <td>...</td>\n",
       "      <td>-0.056122</td>\n",
       "      <td>0.009586</td>\n",
       "      <td>0.016208</td>\n",
       "      <td>-0.008718</td>\n",
       "      <td>0.050708</td>\n",
       "      <td>-0.032934</td>\n",
       "      <td>-0.010124</td>\n",
       "      <td>0.002992</td>\n",
       "      <td>-0.028268</td>\n",
       "      <td>0.004362</td>\n",
       "    </tr>\n",
       "    <tr>\n",
       "      <th>1</th>\n",
       "      <td>1000</td>\n",
       "      <td>beta-lactamase_S221R</td>\n",
       "      <td>0.998278</td>\n",
       "      <td>0.053008</td>\n",
       "      <td>0.104242</td>\n",
       "      <td>0.026439</td>\n",
       "      <td>0.048443</td>\n",
       "      <td>-0.043144</td>\n",
       "      <td>0.052731</td>\n",
       "      <td>-0.069874</td>\n",
       "      <td>...</td>\n",
       "      <td>-0.056800</td>\n",
       "      <td>0.009443</td>\n",
       "      <td>0.017835</td>\n",
       "      <td>-0.008153</td>\n",
       "      <td>0.049308</td>\n",
       "      <td>-0.032000</td>\n",
       "      <td>-0.010796</td>\n",
       "      <td>0.002908</td>\n",
       "      <td>-0.027387</td>\n",
       "      <td>0.003949</td>\n",
       "    </tr>\n",
       "    <tr>\n",
       "      <th>2</th>\n",
       "      <td>1001</td>\n",
       "      <td>beta-lactamase_Q37H</td>\n",
       "      <td>0.998254</td>\n",
       "      <td>0.050949</td>\n",
       "      <td>0.104730</td>\n",
       "      <td>0.025892</td>\n",
       "      <td>0.047978</td>\n",
       "      <td>-0.042739</td>\n",
       "      <td>0.052258</td>\n",
       "      <td>-0.070305</td>\n",
       "      <td>...</td>\n",
       "      <td>-0.055720</td>\n",
       "      <td>0.009551</td>\n",
       "      <td>0.016762</td>\n",
       "      <td>-0.007657</td>\n",
       "      <td>0.051110</td>\n",
       "      <td>-0.031725</td>\n",
       "      <td>-0.010204</td>\n",
       "      <td>0.003038</td>\n",
       "      <td>-0.027681</td>\n",
       "      <td>0.005302</td>\n",
       "    </tr>\n",
       "    <tr>\n",
       "      <th>3</th>\n",
       "      <td>1002</td>\n",
       "      <td>beta-lactamase_F13L</td>\n",
       "      <td>0.998188</td>\n",
       "      <td>0.053440</td>\n",
       "      <td>0.103653</td>\n",
       "      <td>0.028830</td>\n",
       "      <td>0.047122</td>\n",
       "      <td>-0.040457</td>\n",
       "      <td>0.051033</td>\n",
       "      <td>-0.068828</td>\n",
       "      <td>...</td>\n",
       "      <td>-0.056381</td>\n",
       "      <td>0.010812</td>\n",
       "      <td>0.015836</td>\n",
       "      <td>-0.008844</td>\n",
       "      <td>0.049810</td>\n",
       "      <td>-0.034179</td>\n",
       "      <td>-0.010281</td>\n",
       "      <td>0.002779</td>\n",
       "      <td>-0.029671</td>\n",
       "      <td>0.004741</td>\n",
       "    </tr>\n",
       "    <tr>\n",
       "      <th>4</th>\n",
       "      <td>1003</td>\n",
       "      <td>beta-lactamase_A182C</td>\n",
       "      <td>0.998172</td>\n",
       "      <td>0.052086</td>\n",
       "      <td>0.103112</td>\n",
       "      <td>0.023130</td>\n",
       "      <td>0.051180</td>\n",
       "      <td>-0.045987</td>\n",
       "      <td>0.054601</td>\n",
       "      <td>-0.072348</td>\n",
       "      <td>...</td>\n",
       "      <td>-0.052960</td>\n",
       "      <td>0.007204</td>\n",
       "      <td>0.014539</td>\n",
       "      <td>-0.010705</td>\n",
       "      <td>0.050847</td>\n",
       "      <td>-0.030501</td>\n",
       "      <td>-0.010859</td>\n",
       "      <td>0.000829</td>\n",
       "      <td>-0.023961</td>\n",
       "      <td>0.002978</td>\n",
       "    </tr>\n",
       "  </tbody>\n",
       "</table>\n",
       "<p>5 rows × 1027 columns</p>\n",
       "</div>"
      ],
      "text/plain": [
       "  index_value              mutation  scaled_varient_effect         0  \\\n",
       "0           0   beta-lactamase_P20P               1.581033  0.052989   \n",
       "1        1000  beta-lactamase_S221R               0.998278  0.053008   \n",
       "2        1001   beta-lactamase_Q37H               0.998254  0.050949   \n",
       "3        1002   beta-lactamase_F13L               0.998188  0.053440   \n",
       "4        1003  beta-lactamase_A182C               0.998172  0.052086   \n",
       "\n",
       "          1         2         3         4         5         6  ...      1014  \\\n",
       "0  0.103709  0.027287  0.048142 -0.041467  0.052440 -0.070206  ... -0.056122   \n",
       "1  0.104242  0.026439  0.048443 -0.043144  0.052731 -0.069874  ... -0.056800   \n",
       "2  0.104730  0.025892  0.047978 -0.042739  0.052258 -0.070305  ... -0.055720   \n",
       "3  0.103653  0.028830  0.047122 -0.040457  0.051033 -0.068828  ... -0.056381   \n",
       "4  0.103112  0.023130  0.051180 -0.045987  0.054601 -0.072348  ... -0.052960   \n",
       "\n",
       "       1015      1016      1017      1018      1019      1020      1021  \\\n",
       "0  0.009586  0.016208 -0.008718  0.050708 -0.032934 -0.010124  0.002992   \n",
       "1  0.009443  0.017835 -0.008153  0.049308 -0.032000 -0.010796  0.002908   \n",
       "2  0.009551  0.016762 -0.007657  0.051110 -0.031725 -0.010204  0.003038   \n",
       "3  0.010812  0.015836 -0.008844  0.049810 -0.034179 -0.010281  0.002779   \n",
       "4  0.007204  0.014539 -0.010705  0.050847 -0.030501 -0.010859  0.000829   \n",
       "\n",
       "       1022      1023  \n",
       "0 -0.028268  0.004362  \n",
       "1 -0.027387  0.003949  \n",
       "2 -0.027681  0.005302  \n",
       "3 -0.029671  0.004741  \n",
       "4 -0.023961  0.002978  \n",
       "\n",
       "[5 rows x 1027 columns]"
      ]
     },
     "execution_count": 43,
     "metadata": {},
     "output_type": "execute_result"
    }
   ],
   "source": [
    "df_seq = pd.DataFrame.from_dict(embeddings, orient='index').reset_index()\n",
    "\n",
    "header = df_seq['index'].str.split('|', expand=True).rename(\n",
    "    columns={\n",
    "        0:'index_value',\n",
    "        1:'mutation',\n",
    "        2:'scaled_varient_effect'\n",
    "    }\n",
    ")\n",
    "\n",
    "df = pd.concat([header, df_seq.drop('index', axis=1)], axis=1)\n",
    "\n",
    "df['scaled_varient_effect'] = df['scaled_varient_effect'].astype(float)\n",
    "\n",
    "df.head()"
   ]
  },
  {
   "cell_type": "code",
   "execution_count": 44,
   "id": "bfd179ed-7c18-433b-a880-67ff4fff0130",
   "metadata": {},
   "outputs": [],
   "source": [
    "y = df['scaled_varient_effect'].copy()\n",
    "\n",
    "X = df.drop(['index_value', 'mutation', 'scaled_varient_effect'], axis=1)"
   ]
  },
  {
   "cell_type": "code",
   "execution_count": null,
   "id": "8b07c9f7-c31e-4043-b51a-345c9c6480a8",
   "metadata": {
    "id": "F3BFHMKPq53y"
   },
   "outputs": [],
   "source": [
    "ys = []\n",
    "Xs = []\n",
    "\n",
    "for key in embeddings:\n",
    "    scaled_effect = key.split('|')[-1]\n",
    "    ys.append(float(scaled_effect))\n",
    "    embs = np.array(embeddings[key])\n",
    "    num_na = np.count_nonzero(np.isnan(embs))\n",
    "    Xs.append(torch.from_numpy(embs))\n",
    "\n",
    "Xs = torch.stack(Xs, dim=0).numpy()\n",
    "print(len(ys))\n",
    "print(Xs.shape)"
   ]
  },
  {
   "cell_type": "markdown",
   "id": "dd2d5554-38ee-450c-943c-e1776b8cd569",
   "metadata": {
    "id": "86riejVNsD5_"
   },
   "source": [
    "### Train / Test Split\n",
    "\n",
    "Here we choose to follow the Envision paper, using 80% of the data for training, but we actually found that pre-trained ESM embeddings require fewer downstream training examples to reach the same level of performance."
   ]
  },
  {
   "cell_type": "code",
   "execution_count": 36,
   "id": "02558393-d156-4b71-a20b-f1b34afb7bf2",
   "metadata": {
    "id": "3FsQodM_sLPy"
   },
   "outputs": [],
   "source": [
    "from sklearn.model_selection import GridSearchCV, train_test_split\n",
    "from sklearn.decomposition import PCA\n",
    "from sklearn.neighbors import KNeighborsClassifier, KNeighborsRegressor\n",
    "from sklearn.svm import SVC, SVR\n",
    "from sklearn.ensemble import RandomForestClassifier, RandomForestRegressor"
   ]
  },
  {
   "cell_type": "code",
   "execution_count": 45,
   "id": "074e3a7d-d1cd-41d3-9b2e-efc3e557ac1e",
   "metadata": {
    "id": "B0IBi8QDsEib"
   },
   "outputs": [],
   "source": [
    "test_size = 0.2\n",
    "Xs_train, X_test, y_train, y_test = train_test_split(\n",
    "    X, \n",
    "    y, \n",
    "    test_size=test_size, \n",
    "    random_state=42)"
   ]
  },
  {
   "cell_type": "markdown",
   "id": "31df3580-1bd1-4516-b633-dcc9f3e8c678",
   "metadata": {
    "id": "MjCKwf3UtrV_"
   },
   "source": [
    "### PCA\n",
    "\n",
    "Principal Component Analysis is a popular technique for dimensionality reduction. Given `n_features` (1280 in our case), PCA computes a new set of `X` that \"best explain the data.\" We've found that this enables downstream models to be trained faster with minimal loss in performance.  \n",
    "\n",
    "Here, we set `X` to 60, but feel free to change it!\n"
   ]
  },
  {
   "cell_type": "code",
   "execution_count": 46,
   "id": "c4bbc21d-ce18-41f7-9956-43502ee01687",
   "metadata": {
    "id": "q_DfS0BFsG2C"
   },
   "outputs": [],
   "source": [
    "num_pca_components = 100\n",
    "pca = PCA(num_pca_components)\n",
    "Xs_train_pca = pca.fit_transform(Xs_train)"
   ]
  },
  {
   "cell_type": "markdown",
   "id": "a0e1fc8f-5e15-42ab-be52-bcbd4927b2ef",
   "metadata": {
    "id": "uUMAc-jbtxQq"
   },
   "source": [
    "<a id='viz_embeddings'></a>\n",
    "## Visualize Embeddings\n",
    "\n",
    "Here, we plot the first two principal components on the x- and y- axes. Each point is then colored by its scaled effect (what we want to predict).\n",
    "\n",
    "Visually, we can see a separation based on color/effect, suggesting that our representations are useful for this task, without any task-specific training!"
   ]
  },
  {
   "cell_type": "code",
   "execution_count": 47,
   "id": "baec2b47-6487-46f7-b1ee-73f15b1c7aa0",
   "metadata": {
    "colab": {
     "base_uri": "https://localhost:8080/",
     "height": 559
    },
    "id": "YiZjjqMOtuRY",
    "outputId": "6df68e14-6923-484e-fc20-9a2db2a1a374"
   },
   "outputs": [
    {
     "data": {
      "text/plain": [
       "<matplotlib.colorbar.Colorbar at 0x7fc0355afc40>"
      ]
     },
     "execution_count": 47,
     "metadata": {},
     "output_type": "execute_result"
    },
    {
     "data": {
      "image/png": "[encoded data removed]",
      "text/plain": [
       "<Figure size 700x600 with 2 Axes>"
      ]
     },
     "metadata": {},
     "output_type": "display_data"
    }
   ],
   "source": [
    "fig_dims = (7, 6)\n",
    "fig, ax = plt.subplots(figsize=fig_dims)\n",
    "sc = ax.scatter(Xs_train_pca[:,0], Xs_train_pca[:,1], c=y_train, marker='.')\n",
    "ax.set_xlabel('PCA first principal component')\n",
    "ax.set_ylabel('PCA second principal component')\n",
    "plt.colorbar(sc, label='Variant Effect')"
   ]
  },
  {
   "cell_type": "markdown",
   "id": "437b9c95-5287-4e65-a4e6-eced1c61e742",
   "metadata": {
    "id": "JcL5Yig1uLcF"
   },
   "source": [
    "### Initialize grids for different regression techniques"
   ]
  },
  {
   "cell_type": "code",
   "execution_count": null,
   "id": "73ed32e8-b209-4e2a-b0dc-3ac9b157884b",
   "metadata": {
    "id": "pkwofW-quMAe"
   },
   "outputs": [],
   "source": [
    "knn_grid = [\n",
    "    {\n",
    "        'n_neighbors': [5, 10],\n",
    "        'weights': ['uniform', 'distance'],\n",
    "        'leaf_size' : [15, 30],\n",
    "        'p' : [1, 2],\n",
    "    }\n",
    "    ]\n",
    "\n",
    "svm_grid = [\n",
    "    {\n",
    "        'C' : [0.1, 1.0, 10.0],\n",
    "        'kernel' : ['linear', 'poly', 'rbf', 'sigmoid'],\n",
    "        'degree' : [3],\n",
    "        'gamma': ['scale'],\n",
    "    }\n",
    "]"
   ]
  },
  {
   "cell_type": "code",
   "execution_count": null,
   "id": "f628bcb5-16a7-4d91-b05b-c7a280d87ba8",
   "metadata": {
    "id": "yCOg4gUiuNax"
   },
   "outputs": [],
   "source": [
    "cls_list = [KNeighborsRegressor(), SVR()]\n",
    "param_grid_list = [knn_grid, svm_grid]"
   ]
  },
  {
   "cell_type": "markdown",
   "id": "83dd2526-ee94-4a07-b578-002913f61ca6",
   "metadata": {
    "id": "nx0gTUW9uRdT"
   },
   "source": [
    "### Run Grid Search\n",
    "\n",
    "(will take a few minutes on a single core)"
   ]
  },
  {
   "cell_type": "code",
   "execution_count": null,
   "id": "1ddd620f-2ba1-427d-8ee7-bd812e216d14",
   "metadata": {
    "colab": {
     "base_uri": "https://localhost:8080/"
    },
    "id": "Mc1aOsrKuPR9",
    "outputId": "2175437e-e757-4b31-cde4-86a5d8b3fa4f"
   },
   "outputs": [],
   "source": [
    "result_list = []\n",
    "grid_list = []\n",
    "for cls_name, param_grid in zip(cls_list, param_grid_list):\n",
    "    grid = GridSearchCV(\n",
    "        estimator = cls_name,\n",
    "        param_grid = param_grid,\n",
    "        scoring = 'r2',\n",
    "        verbose = 1,\n",
    "        n_jobs = -1 # use all available cores\n",
    "    )\n",
    "    grid.fit(Xs_train, ys_train)\n",
    "    result_list.append(pd.DataFrame.from_dict(grid.cv_results_))\n",
    "    grid_list.append(grid)"
   ]
  },
  {
   "cell_type": "markdown",
   "id": "bd97871c-0ee0-4309-a0b5-23003d1f9f08",
   "metadata": {
    "id": "qvIBgZg7uVqF"
   },
   "source": [
    "<a id='browse'></a>\n",
    "## Browse the Sweep Results\n",
    "\n",
    "The following tables show the top 5 parameter settings, based on `mean_test_score`. Given our setup, this should really be thought of as `validation_score`.\n",
    "\n",
    "# K Nearest Neighbors"
   ]
  },
  {
   "cell_type": "code",
   "execution_count": null,
   "id": "f83d775e-781e-49c1-9209-1fba336cebbb",
   "metadata": {
    "colab": {
     "base_uri": "https://localhost:8080/",
     "height": 531
    },
    "id": "hJmhU248ucle",
    "outputId": "80b54d89-6d51-41e9-eb80-403c14291998"
   },
   "outputs": [],
   "source": [
    "result_list[0].sort_values('mean_test_score')[:5]"
   ]
  },
  {
   "cell_type": "markdown",
   "id": "be010122-1ab5-482a-8cf9-e63f18594c2f",
   "metadata": {
    "id": "IWjL_HtSuge5"
   },
   "source": [
    "SVM"
   ]
  },
  {
   "cell_type": "code",
   "execution_count": null,
   "id": "edbf88bb-702e-475b-b29c-dbaf9c499d80",
   "metadata": {
    "colab": {
     "base_uri": "https://localhost:8080/",
     "height": 704
    },
    "id": "5srdQco1uhjq",
    "outputId": "33b715f7-e71c-4f3c-ff4a-3c62e046e975"
   },
   "outputs": [],
   "source": [
    "result_list[1].sort_values('mean_test_score')[:5]"
   ]
  },
  {
   "cell_type": "markdown",
   "id": "ca00030f-6e7a-4319-8072-2e6ba1670ba0",
   "metadata": {
    "id": "fzB3OQAoulSM"
   },
   "source": [
    "### Random Forest"
   ]
  },
  {
   "cell_type": "code",
   "execution_count": null,
   "id": "55ee64f0-25f4-4be1-8ddb-e5f59f41351e",
   "metadata": {
    "colab": {
     "base_uri": "https://localhost:8080/",
     "height": 444
    },
    "id": "4P5jGoZKujrW",
    "outputId": "0c0e8cb9-8b83-4765-db09-82af963d9c30"
   },
   "outputs": [],
   "source": [
    "result_list[2].sort_values('mean_test_score')[:5]"
   ]
  },
  {
   "cell_type": "markdown",
   "id": "c11dbdfd-969f-4c9d-92df-19b469d107b9",
   "metadata": {
    "id": "2ic6oy3ouysk"
   },
   "source": [
    "<a id='eval'></a>\n",
    "## Evaluation\n",
    "\n",
    "Now that we have run grid search, each `grid` object contains a `best_estimator_`.\n",
    "\n",
    "We can use this to evaluate the correlation between our predictions and the true effect scores on the held-out validation set."
   ]
  },
  {
   "cell_type": "code",
   "execution_count": null,
   "id": "73205590-5023-4d98-aeae-a68288d1e716",
   "metadata": {
    "colab": {
     "base_uri": "https://localhost:8080/"
    },
    "id": "mH_baZPSuyG1",
    "outputId": "fbaf0c4b-fe9f-414c-9f7e-e48e5ad3c1a3"
   },
   "outputs": [],
   "source": [
    "for grid in grid_list:\n",
    "    print(grid.best_estimator_.get_params()) # get the model details from the estimator\n",
    "    print()\n",
    "    preds = grid.predict(Xs_test)\n",
    "    print(f'{scipy.stats.spearmanr(ys_test, preds)}')\n",
    "    print('\\n', '-' * 80, '\\n')"
   ]
  },
  {
   "cell_type": "markdown",
   "id": "977273a7-ffeb-4bd6-88ab-0d9234de36a1",
   "metadata": {
    "id": "eTJWn1U2u4mH"
   },
   "source": [
    "The SVM performs the best on the `test` set, with a spearman rho of 0.78."
   ]
  }
 ],
 "metadata": {
  "kernelspec": {
   "display_name": "Python 3 (ipykernel)",
   "language": "python",
   "name": "python3"
  },
  "language_info": {
   "codemirror_mode": {
    "name": "ipython",
    "version": 3
   },
   "file_extension": ".py",
   "mimetype": "text/x-python",
   "name": "python",
   "nbconvert_exporter": "python",
   "pygments_lexer": "ipython3",
   "version": "3.10.9"
  }
 },
 "nbformat": 4,
 "nbformat_minor": 5
}
